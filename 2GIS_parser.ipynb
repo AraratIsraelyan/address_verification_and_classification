{
 "cells": [
  {
   "cell_type": "markdown",
   "id": "da40e708-e640-42f4-851b-f901b9a04cfd",
   "metadata": {},
   "source": [
    "# Парсер 2ГИС"
   ]
  },
  {
   "cell_type": "code",
   "execution_count": null,
   "id": "4d6417c8-dc30-49e4-91d8-8b1d35dcb4d1",
   "metadata": {},
   "outputs": [],
   "source": [
    "import pandas as pd\n",
    "from selenium import webdriver\n",
    "from selenium.webdriver.common.by import By\n",
    "from selenium.webdriver.common.keys import Keys\n",
    "from selenium.webdriver.support.ui import WebDriverWait\n",
    "from selenium.webdriver.support import expected_conditions as EC\n",
    "from selenium.common.exceptions import TimeoutException, NoSuchElementException\n",
    "import time\n",
    "from tqdm import tqdm\n",
    "\n",
    "# Функция для парсинга типа здания с 2GIS\n",
    "def get_building_type(address, driver):\n",
    "    try:\n",
    "        # Открываем сайт 2GIS\n",
    "        driver.get('https://2gis.ru/')\n",
    "\n",
    "        # Ждем, пока поле ввода станет доступным\n",
    "        wait = WebDriverWait(driver, 10)\n",
    "        input_element = wait.until(\n",
    "            EC.presence_of_element_located((By.CLASS_NAME, \"_h7eic2\"))\n",
    "        )\n",
    "\n",
    "        # Вводим адрес\n",
    "        input_element.clear()\n",
    "        input_element.send_keys(address)\n",
    "        input_element.send_keys(Keys.RETURN)\n",
    "\n",
    "        # Ждем загрузки результатов поиска\n",
    "        wait.until(EC.presence_of_element_located((By.CLASS_NAME, \"_5b28jpo\")))\n",
    "\n",
    "        # Получаем тип здания\n",
    "        try:\n",
    "            building_type_element = driver.find_element(By.CSS_SELECTOR, \"div._1idnaau span._oqoid\")\n",
    "            return building_type_element.text\n",
    "        except NoSuchElementException:\n",
    "            return \"Не удалось определить тип здания\"\n",
    "    except TimeoutException:\n",
    "        return \"Ошибка загрузки\""
   ]
  },
  {
   "cell_type": "code",
   "execution_count": null,
   "id": "d2e22508-fc44-4b19-af62-d90de1137ba5",
   "metadata": {},
   "outputs": [],
   "source": [
    "df = pd.read_excel(\"Результат.xlsx\", dtype=\"str\", sheet_name = \"Сводная\")   \n",
    "df['Тип_здания_2ГИС'] = \"\""
   ]
  },
  {
   "cell_type": "code",
   "execution_count": null,
   "id": "23e26245-6e83-42f2-99f0-4a0b4526929e",
   "metadata": {},
   "outputs": [],
   "source": [
    "# Основной скрипт\n",
    "if __name__ == \"__main__\":\n",
    "    # Пример DataFrame с адресами\n",
    "    # Настраиваем драйвер Selenium\n",
    "    driver = webdriver.Firefox()\n",
    "    try:\n",
    "        for index, row in tqdm(df.iterrows()):\n",
    "            df.at[index, 'Тип_здания_2ГИС'] = get_building_type(str(row['Исходный_адрес']), driver)\n",
    "    finally:\n",
    "        # Закрываем браузер\n",
    "        driver.quit()\n",
    "    # Сохраняем результат в файл или выводим на экран"
   ]
  },
  {
   "cell_type": "code",
   "execution_count": null,
   "id": "eec0f75f-e60e-42e1-b9a6-c877af61dc4b",
   "metadata": {},
   "outputs": [],
   "source": [
    "df.to_excel(\"Результат_с_2ГИС.xlsx\", index=False)"
   ]
  }
 ],
 "metadata": {
  "kernelspec": {
   "display_name": "Python 3 (ipykernel)",
   "language": "python",
   "name": "python3"
  },
  "language_info": {
   "codemirror_mode": {
    "name": "ipython",
    "version": 3
   },
   "file_extension": ".py",
   "mimetype": "text/x-python",
   "name": "python",
   "nbconvert_exporter": "python",
   "pygments_lexer": "ipython3",
   "version": "3.12.0"
  }
 },
 "nbformat": 4,
 "nbformat_minor": 5
}
