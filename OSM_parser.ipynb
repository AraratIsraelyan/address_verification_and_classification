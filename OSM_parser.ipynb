{
 "cells": [
  {
   "cell_type": "code",
   "execution_count": 31,
   "id": "30739077-b605-428d-bdb4-8595c48a738e",
   "metadata": {},
   "outputs": [],
   "source": [
    "from geopy.geocoders import Nominatim\n",
    "import requests\n",
    "import pandas as pd\n",
    "from tqdm.notebook import tqdm\n",
    "import time"
   ]
  },
  {
   "cell_type": "code",
   "execution_count": 2,
   "id": "3a738e40-3b01-46e0-8c21-3bee57eca846",
   "metadata": {
    "jupyter": {
     "source_hidden": true
    }
   },
   "outputs": [],
   "source": [
    "building_type_translation = {\n",
    "    \"residential\": \"Жилое здание\",\n",
    "    \"commercial\": \"Коммерческое здание\",\n",
    "    \"administrative\": \"Административное здание\",\n",
    "    \"house\": \"Частный дом\",\n",
    "    \"industrial\": \"Промышленное здание\",\n",
    "    \"retail\": \"Торговое здание\",\n",
    "    \"yes\": \"Здание\",\n",
    "    \"apartments\": \"Многоквартирный дом\",\n",
    "    \"unknown\": \"Неизвестный тип здания\",\n",
    "    \"church\": \"Церковь\",\n",
    "    \"university\": \"Университет\",\n",
    "    \"garages\": \"Гаражи\",\n",
    "    \"bakehouse\": \"Пекарня\",\n",
    "    \"terrace\": \"Терраса\",\n",
    "    \"service\": \"Сервисное здание\",\n",
    "    \"detached\": \"Отдельно стоящее здание\",\n",
    "    \"office\": \"Офис\",\n",
    "    \"shed\": \"Сарай\",\n",
    "    \"dormitory\": \"Общежитие\",\n",
    "    \"warehouse\": \"Склад\",\n",
    "    \"school\": \"Школа\",\n",
    "    \"sports_centre\": \"Спортивный центр\",\n",
    "    \"gatehouse\": \"Караульное помещение\",\n",
    "    \"construction\": \"Строящийся объект\",\n",
    "    \"hospital\": \"Больница\",\n",
    "    \"hotel\": \"Гостиница\",\n",
    "    \"garage\": \"Гараж\",\n",
    "    \"pavilion\": \"Павильон\",\n",
    "    \"kindergarten\": \"Детский сад\",\n",
    "    \"roof\": \"Кровля\",\n",
    "    \"manufacture\": \"Производственное здание\",\n",
    "    \"train_station\": \"Железнодорожный вокзал\",\n",
    "    \"barrack\": \"Казарма\",\n",
    "    \"shop\": \"Магазин\",\n",
    "    \"college\": \"Колледж\",\n",
    "    \"error\": \"Неизвестный тип здания\",\n",
    "    \"stands\": \"Трибуны\",\n",
    "    \"hangar\": \"Ангар\",\n",
    "    \"supermarket\": \"Супермаркет\",\n",
    "    \"government\": \"Государственное здание\",\n",
    "    \"factory\": \"Фабрика\",\n",
    "    \"hut\": \"Хижина\",\n",
    "    \"clinic\": \"Клиника\",\n",
    "    \"public\": \"Общественное здание\",\n",
    "    \"parking\": \"Парковка\",\n",
    "    \"store\": \"Склад\",\n",
    "    \"brewery\": \"Пивоварня\",\n",
    "    \"abandoned\": \"Заброшенное здание\",\n",
    "    \"civic\": \"Гражданское здание\"\n",
    "}"
   ]
  },
  {
   "cell_type": "code",
   "execution_count": 28,
   "id": "94adb99f-a001-44a0-a5f9-f6c37c7abbe1",
   "metadata": {},
   "outputs": [],
   "source": [
    "def get_building_type(address):\n",
    "    try:\n",
    "        # Геокодируем адрес с помощью Nominatim\n",
    "        geolocator = Nominatim(user_agent=\"building_type_finder\")\n",
    "        location = geolocator.geocode(address)\n",
    "    \n",
    "        if not location:\n",
    "            return \"unknown\"\n",
    "    \n",
    "        # Получаем координаты из геокодирования\n",
    "        lat, lon = location.latitude, location.longitude\n",
    "    \n",
    "        # Формируем запрос к Overpass API для поиска типа здания\n",
    "        overpass_url = \"http://overpass-api.de/api/interpreter\"\n",
    "        overpass_query = f\"\"\"\n",
    "        [out:json];\n",
    "        way(around:50,{lat},{lon})[\"building\"];\n",
    "        out tags;\n",
    "        \"\"\"\n",
    "        response = requests.get(overpass_url, params={'data': overpass_query})\n",
    "        data = response.json()\n",
    "    \n",
    "        # Проверяем, есть ли здания в результате\n",
    "        if not data.get('elements'):\n",
    "            return \"unknown\"\n",
    "    \n",
    "        for element in data['elements']:\n",
    "            building_type = element['tags'].get(\"building\", \"Иное\")\n",
    "            return building_type\n",
    "        \n",
    "        # Если цикл не возвращает значение\n",
    "        return \"unknown\"\n",
    "    \n",
    "    except Exception as e:\n",
    "        print(f\"Ошибка: {e}\")\n",
    "        return \"unknown\""
   ]
  },
  {
   "cell_type": "code",
   "execution_count": 30,
   "id": "95ffdb87-97a4-4369-ab15-1f8ca30a9948",
   "metadata": {},
   "outputs": [
    {
     "name": "stdout",
     "output_type": "stream",
     "text": [
      "Тип здания: apartments\n"
     ]
    }
   ],
   "source": [
    "# Пример использования\n",
    "address = \"Москва Маршала Василевского 17\"\n",
    "building_type = get_building_type(address)\n",
    "print(f\"Тип здания: {building_type}\")"
   ]
  },
  {
   "cell_type": "code",
   "execution_count": 35,
   "id": "01a8a952-1ce9-40bb-aeed-e42fd56d4f2d",
   "metadata": {},
   "outputs": [],
   "source": [
    "df_input = pd.read_csv(\"normalization_in (8).csv\", dtype=\"str\", sep=\";\").astype(\"str\")\n",
    "df_input[\"id\"] = df_input[\"id\"].astype(int)"
   ]
  },
  {
   "cell_type": "code",
   "execution_count": 69,
   "id": "3c813129-51ed-49f5-a85b-c1cc4123bc16",
   "metadata": {},
   "outputs": [],
   "source": [
    "df_input[\"тип_здания\"] = \"\"\n",
    "df_input[\"building_type\"] = \"\""
   ]
  },
  {
   "cell_type": "code",
   "execution_count": null,
   "id": "5cfcf13a-0658-47de-9a08-b0d7e069ebe0",
   "metadata": {},
   "outputs": [],
   "source": [
    "for index, row in tqdm(df_input.iterrows()):\n",
    "    i = index\n",
    "    address = str(row[\"address\"])\n",
    "    building_type, building_type_original = get_building_type(address)\n",
    "    df_input.at[index, \"тип_здания\"] = building_type\n",
    "    df_input.at[index, \"тип_здания\"] = building_type_original\n",
    "    # time.sleep(2)"
   ]
  },
  {
   "cell_type": "code",
   "execution_count": 79,
   "id": "353ddc1f-ae27-43dc-879a-e8cacc81a380",
   "metadata": {},
   "outputs": [],
   "source": [
    "df_input[\"building_type\"] = df_input[\"тип_здания\"]"
   ]
  },
  {
   "cell_type": "code",
   "execution_count": 80,
   "id": "e8cc06ce-cf93-4856-9622-35ec437bbb0b",
   "metadata": {},
   "outputs": [
    {
     "data": {
      "text/html": [
       "<div>\n",
       "<style scoped>\n",
       "    .dataframe tbody tr th:only-of-type {\n",
       "        vertical-align: middle;\n",
       "    }\n",
       "\n",
       "    .dataframe tbody tr th {\n",
       "        vertical-align: top;\n",
       "    }\n",
       "\n",
       "    .dataframe thead th {\n",
       "        text-align: right;\n",
       "    }\n",
       "</style>\n",
       "<table border=\"1\" class=\"dataframe\">\n",
       "  <thead>\n",
       "    <tr style=\"text-align: right;\">\n",
       "      <th></th>\n",
       "      <th>id</th>\n",
       "      <th>address</th>\n",
       "      <th>тип_здания</th>\n",
       "      <th>building_type</th>\n",
       "    </tr>\n",
       "  </thead>\n",
       "  <tbody>\n",
       "    <tr>\n",
       "      <th>0</th>\n",
       "      <td>1</td>\n",
       "      <td>ЧЕБАРКУЛЬ, 9 МАЯ, 27</td>\n",
       "      <td>apartments</td>\n",
       "      <td>apartments</td>\n",
       "    </tr>\n",
       "    <tr>\n",
       "      <th>1</th>\n",
       "      <td>2</td>\n",
       "      <td>БАЙМАКСКИЙ, ИШЕЙ, ШКОЛЬНАЯ, Д. 1</td>\n",
       "      <td>yes</td>\n",
       "      <td>yes</td>\n",
       "    </tr>\n",
       "    <tr>\n",
       "      <th>2</th>\n",
       "      <td>3</td>\n",
       "      <td>ОЗЕРЫ, ПОЛУРЯДИНКИ, Д. 6</td>\n",
       "      <td>unknown</td>\n",
       "      <td>unknown</td>\n",
       "    </tr>\n",
       "    <tr>\n",
       "      <th>3</th>\n",
       "      <td>4</td>\n",
       "      <td>СОСНОВЫЙ БОР, СОЛНЕЧНАЯ, 30</td>\n",
       "      <td>apartments</td>\n",
       "      <td>apartments</td>\n",
       "    </tr>\n",
       "    <tr>\n",
       "      <th>4</th>\n",
       "      <td>5</td>\n",
       "      <td>МАГНИТОГОРСК, КАРЛА МАРКСА, 13</td>\n",
       "      <td>apartments</td>\n",
       "      <td>apartments</td>\n",
       "    </tr>\n",
       "    <tr>\n",
       "      <th>...</th>\n",
       "      <td>...</td>\n",
       "      <td>...</td>\n",
       "      <td>...</td>\n",
       "      <td>...</td>\n",
       "    </tr>\n",
       "    <tr>\n",
       "      <th>9995</th>\n",
       "      <td>9996</td>\n",
       "      <td>КАРАБУДАХКЕНТСКИЙ, КАРАБУДАХКЕНТ, ЖУКОВСКОГО, 5</td>\n",
       "      <td>house</td>\n",
       "      <td>house</td>\n",
       "    </tr>\n",
       "    <tr>\n",
       "      <th>9996</th>\n",
       "      <td>9997</td>\n",
       "      <td>МОСКВА, ЛЮБЛИНСКАЯ, Д. 17,К. 2</td>\n",
       "      <td>unknown</td>\n",
       "      <td>unknown</td>\n",
       "    </tr>\n",
       "    <tr>\n",
       "      <th>9997</th>\n",
       "      <td>9998</td>\n",
       "      <td>ЯРОСЛАВЛЬ, ЛЕСКОВА, Д. 23</td>\n",
       "      <td>construction</td>\n",
       "      <td>construction</td>\n",
       "    </tr>\n",
       "    <tr>\n",
       "      <th>9998</th>\n",
       "      <td>9999</td>\n",
       "      <td>ПОЧИНКОВСКИЙ, ПОЧИНКИ, СТРОИТЕЛЕЙ, Д. 3</td>\n",
       "      <td>house</td>\n",
       "      <td>house</td>\n",
       "    </tr>\n",
       "    <tr>\n",
       "      <th>9999</th>\n",
       "      <td>10000</td>\n",
       "      <td>МАГНИТОГОРСК, СОВЕТСКАЯ, 111</td>\n",
       "      <td>yes</td>\n",
       "      <td>yes</td>\n",
       "    </tr>\n",
       "  </tbody>\n",
       "</table>\n",
       "<p>10000 rows × 4 columns</p>\n",
       "</div>"
      ],
      "text/plain": [
       "         id                                          address    тип_здания  \\\n",
       "0         1                             ЧЕБАРКУЛЬ, 9 МАЯ, 27    apartments   \n",
       "1         2                 БАЙМАКСКИЙ, ИШЕЙ, ШКОЛЬНАЯ, Д. 1           yes   \n",
       "2         3                         ОЗЕРЫ, ПОЛУРЯДИНКИ, Д. 6       unknown   \n",
       "3         4                      СОСНОВЫЙ БОР, СОЛНЕЧНАЯ, 30    apartments   \n",
       "4         5                   МАГНИТОГОРСК, КАРЛА МАРКСА, 13    apartments   \n",
       "...     ...                                              ...           ...   \n",
       "9995   9996  КАРАБУДАХКЕНТСКИЙ, КАРАБУДАХКЕНТ, ЖУКОВСКОГО, 5         house   \n",
       "9996   9997                   МОСКВА, ЛЮБЛИНСКАЯ, Д. 17,К. 2       unknown   \n",
       "9997   9998                        ЯРОСЛАВЛЬ, ЛЕСКОВА, Д. 23  construction   \n",
       "9998   9999          ПОЧИНКОВСКИЙ, ПОЧИНКИ, СТРОИТЕЛЕЙ, Д. 3         house   \n",
       "9999  10000                     МАГНИТОГОРСК, СОВЕТСКАЯ, 111           yes   \n",
       "\n",
       "     building_type  \n",
       "0       apartments  \n",
       "1              yes  \n",
       "2          unknown  \n",
       "3       apartments  \n",
       "4       apartments  \n",
       "...            ...  \n",
       "9995         house  \n",
       "9996       unknown  \n",
       "9997  construction  \n",
       "9998         house  \n",
       "9999           yes  \n",
       "\n",
       "[10000 rows x 4 columns]"
      ]
     },
     "execution_count": 80,
     "metadata": {},
     "output_type": "execute_result"
    }
   ],
   "source": [
    "df_input"
   ]
  },
  {
   "cell_type": "code",
   "execution_count": 92,
   "id": "9d23fef5-2d17-49c7-a1af-b3f457e1e5c6",
   "metadata": {},
   "outputs": [],
   "source": [
    "df_building_types = pd.DataFrame(\n",
    "    list(building_type_translation.items()),\n",
    "    columns=[\"building_type\", \"тип_здания_ru\"]\n",
    ")"
   ]
  },
  {
   "cell_type": "code",
   "execution_count": 93,
   "id": "73fd6fde-9138-4ee3-9a1e-cfdbb9874835",
   "metadata": {},
   "outputs": [],
   "source": [
    "res = pd.merge(df_input, df_building_types, how=\"left\", on=\"building_type\")"
   ]
  },
  {
   "cell_type": "code",
   "execution_count": 94,
   "id": "2965f3dd-2f7f-4f8b-8b5f-c169832e5ea4",
   "metadata": {},
   "outputs": [
    {
     "data": {
      "text/plain": [
       "array([], dtype=object)"
      ]
     },
     "execution_count": 94,
     "metadata": {},
     "output_type": "execute_result"
    }
   ],
   "source": [
    "res[\"building_type\"][res[\"тип_здания_ru\"].isna()].unique()"
   ]
  },
  {
   "cell_type": "code",
   "execution_count": 102,
   "id": "bbc922f4-194e-4ab0-8ed2-b46d515667b3",
   "metadata": {},
   "outputs": [],
   "source": [
    "res.to_excel(\"res.xlsx\")"
   ]
  }
 ],
 "metadata": {
  "kernelspec": {
   "display_name": "Python 3 (ipykernel)",
   "language": "python",
   "name": "python3"
  },
  "language_info": {
   "codemirror_mode": {
    "name": "ipython",
    "version": 3
   },
   "file_extension": ".py",
   "mimetype": "text/x-python",
   "name": "python",
   "nbconvert_exporter": "python",
   "pygments_lexer": "ipython3",
   "version": "3.12.0"
  }
 },
 "nbformat": 4,
 "nbformat_minor": 5
}
